{
 "cells": [
  {
   "cell_type": "markdown",
   "metadata": {},
   "source": [
    "#               Geração de texto automatico : Usando Markov"
   ]
  },
  {
   "cell_type": "markdown",
   "metadata": {},
   "source": [
    "## Instalação da Biblioteca\n",
    "\n",
    "Markovify é um gerador de cadeia de Markov simples e extensível."
   ]
  },
  {
   "cell_type": "code",
   "execution_count": 1,
   "metadata": {},
   "outputs": [
    {
     "name": "stdout",
     "output_type": "stream",
     "text": [
      "Requirement already satisfied: markovify in /home/joao/anaconda3/lib/python3.7/site-packages (0.8.3)\r\n",
      "Requirement already satisfied: unidecode in /home/joao/anaconda3/lib/python3.7/site-packages (from markovify) (1.1.2)\r\n"
     ]
    }
   ],
   "source": [
    "! pip install markovify"
   ]
  },
  {
   "cell_type": "code",
   "execution_count": 2,
   "metadata": {},
   "outputs": [],
   "source": [
    "import markovify"
   ]
  },
  {
   "cell_type": "markdown",
   "metadata": {},
   "source": [
    "# Um pouco sobre cadeia de markov"
   ]
  },
  {
   "cell_type": "markdown",
   "metadata": {},
   "source": [
    "As cadeias de Markov, em homenagem a Andrey Markov, são sistemas matemáticos que saltam de um \"estado\" para outro."
   ]
  },
  {
   "cell_type": "markdown",
   "metadata": {},
   "source": [
    "# Abrir dataset e Criação do modelo "
   ]
  },
  {
   "cell_type": "code",
   "execution_count": 3,
   "metadata": {},
   "outputs": [],
   "source": [
    "def abrir_documento():\n",
    "    result = ''\n",
    "    with open(\"../crawler/data/nos.txt\", 'r') as f:\n",
    "        result = f.read()\n",
    "    return result\n",
    "\n",
    "# Modelo de cadeia de Markov com tamanho de estado igual a 3\n",
    "\n",
    "def treinar_modelo(texto):\n",
    "    result = markovify.Text(texto, state_size=3)\n",
    "    return result"
   ]
  },
  {
   "cell_type": "markdown",
   "metadata": {},
   "source": [
    "# Geração de \"Previsões\" Futuras automaticas"
   ]
  },
  {
   "cell_type": "code",
   "execution_count": 4,
   "metadata": {},
   "outputs": [
    {
     "name": "stdout",
     "output_type": "stream",
     "text": [
      "The great man will be struck with his rod.\n",
      "The largest sail set out of the English West Where the head of the King Will come to inflame very much French with Arabian.\n",
      "In the Rhône he will make his sail bound.\n",
      "Swords fire, floods, then the noble Romans drowned, killed or dead because of a lamented chief, The land will be covered with barbarian blood.\n"
     ]
    }
   ],
   "source": [
    "modelo = treinar_modelo(abrir_documento())\n",
    "\n",
    "for i in range(4):\n",
    "    text = (modelo.make_sentence())\n",
    "    if text is not None:\n",
    "        print(text)"
   ]
  },
  {
   "cell_type": "code",
   "execution_count": null,
   "metadata": {},
   "outputs": [],
   "source": []
  }
 ],
 "metadata": {
  "kernelspec": {
   "display_name": "Python 3",
   "language": "python",
   "name": "python3"
  },
  "language_info": {
   "codemirror_mode": {
    "name": "ipython",
    "version": 3
   },
   "file_extension": ".py",
   "mimetype": "text/x-python",
   "name": "python",
   "nbconvert_exporter": "python",
   "pygments_lexer": "ipython3",
   "version": "3.7.3"
  }
 },
 "nbformat": 4,
 "nbformat_minor": 2
}
